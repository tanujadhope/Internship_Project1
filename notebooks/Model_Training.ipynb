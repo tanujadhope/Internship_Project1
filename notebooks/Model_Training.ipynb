{
 "cells": [
  {
   "cell_type": "code",
   "execution_count": 7,
   "id": "512e230f",
   "metadata": {},
   "outputs": [],
   "source": [
    "import pandas as pd\n",
    "import matplotlib.pyplot as plt\n",
    "import numpy as np\n",
    "import warnings\n",
    "warnings.filterwarnings('ignore')\n",
    "from sklearn.ensemble import RandomForestClassifier\n",
    "from sklearn.metrics import precision_score, recall_score, f1_score, accuracy_score"
   ]
  },
  {
   "cell_type": "code",
   "execution_count": 3,
   "id": "5e6154da",
   "metadata": {},
   "outputs": [
    {
     "data": {
      "text/html": [
       "<div>\n",
       "<style scoped>\n",
       "    .dataframe tbody tr th:only-of-type {\n",
       "        vertical-align: middle;\n",
       "    }\n",
       "\n",
       "    .dataframe tbody tr th {\n",
       "        vertical-align: top;\n",
       "    }\n",
       "\n",
       "    .dataframe thead th {\n",
       "        text-align: right;\n",
       "    }\n",
       "</style>\n",
       "<table border=\"1\" class=\"dataframe\">\n",
       "  <thead>\n",
       "    <tr style=\"text-align: right;\">\n",
       "      <th></th>\n",
       "      <th>LIMIT_BAL</th>\n",
       "      <th>SEX</th>\n",
       "      <th>EDUCATION</th>\n",
       "      <th>MARRIAGE</th>\n",
       "      <th>AGE</th>\n",
       "      <th>PAY_0</th>\n",
       "      <th>BILL_AMT1</th>\n",
       "      <th>PAY_AMT1</th>\n",
       "      <th>PAY_AMT2</th>\n",
       "      <th>PAY_AMT3</th>\n",
       "      <th>PAY_AMT4</th>\n",
       "      <th>PAY_AMT5</th>\n",
       "      <th>PAY_AMT6</th>\n",
       "      <th>Payment_default</th>\n",
       "    </tr>\n",
       "  </thead>\n",
       "  <tbody>\n",
       "    <tr>\n",
       "      <th>0</th>\n",
       "      <td>-1.135512</td>\n",
       "      <td>0.811083</td>\n",
       "      <td>0.259747</td>\n",
       "      <td>-1.072132</td>\n",
       "      <td>-1.244325</td>\n",
       "      <td>1.791873</td>\n",
       "      <td>-0.641203</td>\n",
       "      <td>-0.340993</td>\n",
       "      <td>-0.225468</td>\n",
       "      <td>-0.295690</td>\n",
       "      <td>-0.307347</td>\n",
       "      <td>-0.314553</td>\n",
       "      <td>-0.293444</td>\n",
       "      <td>1</td>\n",
       "    </tr>\n",
       "    <tr>\n",
       "      <th>1</th>\n",
       "      <td>-0.365937</td>\n",
       "      <td>0.811083</td>\n",
       "      <td>0.259747</td>\n",
       "      <td>0.858058</td>\n",
       "      <td>-1.027242</td>\n",
       "      <td>-0.876018</td>\n",
       "      <td>-0.657981</td>\n",
       "      <td>-0.340993</td>\n",
       "      <td>-0.211998</td>\n",
       "      <td>-0.238809</td>\n",
       "      <td>-0.243696</td>\n",
       "      <td>-0.314553</td>\n",
       "      <td>-0.180174</td>\n",
       "      <td>1</td>\n",
       "    </tr>\n",
       "    <tr>\n",
       "      <th>2</th>\n",
       "      <td>-0.596810</td>\n",
       "      <td>0.811083</td>\n",
       "      <td>0.259747</td>\n",
       "      <td>0.858058</td>\n",
       "      <td>-0.158912</td>\n",
       "      <td>0.013279</td>\n",
       "      <td>-0.296016</td>\n",
       "      <td>-0.249370</td>\n",
       "      <td>-0.190343</td>\n",
       "      <td>-0.238809</td>\n",
       "      <td>-0.243696</td>\n",
       "      <td>-0.248953</td>\n",
       "      <td>-0.010269</td>\n",
       "      <td>0</td>\n",
       "    </tr>\n",
       "    <tr>\n",
       "      <th>3</th>\n",
       "      <td>-0.904640</td>\n",
       "      <td>0.811083</td>\n",
       "      <td>0.259747</td>\n",
       "      <td>-1.072132</td>\n",
       "      <td>0.166712</td>\n",
       "      <td>0.013279</td>\n",
       "      <td>-0.054075</td>\n",
       "      <td>-0.220278</td>\n",
       "      <td>-0.167864</td>\n",
       "      <td>-0.227433</td>\n",
       "      <td>-0.237331</td>\n",
       "      <td>-0.244427</td>\n",
       "      <td>-0.236809</td>\n",
       "      <td>0</td>\n",
       "    </tr>\n",
       "    <tr>\n",
       "      <th>4</th>\n",
       "      <td>-0.904640</td>\n",
       "      <td>-1.232920</td>\n",
       "      <td>0.259747</td>\n",
       "      <td>-1.072132</td>\n",
       "      <td>2.337536</td>\n",
       "      <td>-0.876018</td>\n",
       "      <td>-0.577089</td>\n",
       "      <td>-0.220278</td>\n",
       "      <td>1.333383</td>\n",
       "      <td>0.273118</td>\n",
       "      <td>0.265508</td>\n",
       "      <td>-0.269355</td>\n",
       "      <td>-0.254989</td>\n",
       "      <td>0</td>\n",
       "    </tr>\n",
       "  </tbody>\n",
       "</table>\n",
       "</div>"
      ],
      "text/plain": [
       "   LIMIT_BAL       SEX  EDUCATION  MARRIAGE       AGE     PAY_0  BILL_AMT1  \\\n",
       "0  -1.135512  0.811083   0.259747 -1.072132 -1.244325  1.791873  -0.641203   \n",
       "1  -0.365937  0.811083   0.259747  0.858058 -1.027242 -0.876018  -0.657981   \n",
       "2  -0.596810  0.811083   0.259747  0.858058 -0.158912  0.013279  -0.296016   \n",
       "3  -0.904640  0.811083   0.259747 -1.072132  0.166712  0.013279  -0.054075   \n",
       "4  -0.904640 -1.232920   0.259747 -1.072132  2.337536 -0.876018  -0.577089   \n",
       "\n",
       "   PAY_AMT1  PAY_AMT2  PAY_AMT3  PAY_AMT4  PAY_AMT5  PAY_AMT6  Payment_default  \n",
       "0 -0.340993 -0.225468 -0.295690 -0.307347 -0.314553 -0.293444                1  \n",
       "1 -0.340993 -0.211998 -0.238809 -0.243696 -0.314553 -0.180174                1  \n",
       "2 -0.249370 -0.190343 -0.238809 -0.243696 -0.248953 -0.010269                0  \n",
       "3 -0.220278 -0.167864 -0.227433 -0.237331 -0.244427 -0.236809                0  \n",
       "4 -0.220278  1.333383  0.273118  0.265508 -0.269355 -0.254989                0  "
      ]
     },
     "execution_count": 3,
     "metadata": {},
     "output_type": "execute_result"
    }
   ],
   "source": [
    "df = pd.read_csv('cleaned_data.csv')\n",
    "df.head()"
   ]
  },
  {
   "cell_type": "code",
   "execution_count": 4,
   "id": "8a0895c6",
   "metadata": {},
   "outputs": [],
   "source": [
    "## Independent and dependent features\n",
    "\n",
    "X = df.drop(labels=['Payment_default'],axis=1)\n",
    "Y = df[['Payment_default']]"
   ]
  },
  {
   "cell_type": "code",
   "execution_count": 5,
   "id": "edbb730b",
   "metadata": {},
   "outputs": [],
   "source": [
    "## Train test split\n",
    "\n",
    "from sklearn.model_selection import train_test_split\n",
    "\n",
    "X_train,X_test,y_train,y_test=train_test_split(X,Y,test_size=0.30,random_state=30)"
   ]
  },
  {
   "cell_type": "code",
   "execution_count": 10,
   "id": "0ccf124c",
   "metadata": {},
   "outputs": [
    {
     "name": "stdout",
     "output_type": "stream",
     "text": [
      "Accuracy Score: 0.8205157076905754\n"
     ]
    }
   ],
   "source": [
    "rfm = RandomForestClassifier(n_estimators=20,oob_score=True,n_jobs=1,random_state=42,max_features=None,min_samples_leaf=10)\n",
    "rfm.fit(X_train,y_train)\n",
    "rfm_y_pred = rfm.predict(X_test)\n",
    "print(f\"Accuracy Score: {accuracy_score(rfm_y_pred,y_test)}\")"
   ]
  },
  {
   "cell_type": "code",
   "execution_count": 9,
   "id": "2a799507",
   "metadata": {},
   "outputs": [
    {
     "name": "stdout",
     "output_type": "stream",
     "text": [
      "F1 Score: 0.471\n"
     ]
    }
   ],
   "source": [
    "print('F1 Score: %.3f' % f1_score(y_test, rfm_y_pred))"
   ]
  },
  {
   "cell_type": "code",
   "execution_count": 12,
   "id": "b7379f50",
   "metadata": {},
   "outputs": [
    {
     "name": "stdout",
     "output_type": "stream",
     "text": [
      "Default\n"
     ]
    }
   ],
   "source": [
    "input_data = (-1.1355123246073677,1,1,2,-1.244324652307965,0,-0.4849654557394294,-0.1478490176807232,-0.25530939085407756,-0.21036893766203657,-0.3073466366887242,-0.20631337304146,-0.29344381171848527)\n",
    "\n",
    "# Reshape the input data to a 2D array with a single row\n",
    "input_data_reshaped = np.reshape(input_data, (1, -1))\n",
    "\n",
    "# Make a prediction on the reshaped input data\n",
    "prediction = rfm.predict(input_data_reshaped)\n",
    "\n",
    "# Check the predicted value and print the corresponding label\n",
    "if prediction[0] == 0:\n",
    "    print('Not default')\n",
    "else:\n",
    "    print('Default')"
   ]
  },
  {
   "attachments": {},
   "cell_type": "markdown",
   "id": "fd614568",
   "metadata": {},
   "source": [
    "\n"
   ]
  }
 ],
 "metadata": {
  "kernelspec": {
   "display_name": "Python 3 (ipykernel)",
   "language": "python",
   "name": "python3"
  },
  "language_info": {
   "codemirror_mode": {
    "name": "ipython",
    "version": 3
   },
   "file_extension": ".py",
   "mimetype": "text/x-python",
   "name": "python",
   "nbconvert_exporter": "python",
   "pygments_lexer": "ipython3",
   "version": "3.9.12"
  }
 },
 "nbformat": 4,
 "nbformat_minor": 5
}
